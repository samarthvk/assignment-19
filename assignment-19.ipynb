{
 "cells": [
  {
   "cell_type": "markdown",
   "id": "6ee5282d",
   "metadata": {},
   "source": [
    "### 1. Make a class called Thing with no contents and print it. Then, create an object called example from this class and also print it. Are the printed values the same or different?"
   ]
  },
  {
   "cell_type": "code",
   "execution_count": 1,
   "id": "4f11f3c8",
   "metadata": {},
   "outputs": [
    {
     "name": "stdout",
     "output_type": "stream",
     "text": [
      "<class '__main__.Thing'>\n",
      "<__main__.Thing object at 0x0000029606C09580>\n"
     ]
    }
   ],
   "source": [
    "class Thing:\n",
    "    pass\n",
    "\n",
    "print(Thing)\n",
    "\n",
    "example = Thing()\n",
    "print(example)"
   ]
  },
  {
   "cell_type": "markdown",
   "id": "3edc12f0",
   "metadata": {},
   "source": [
    "### 2. Create a new class called Thing2 and add the value 'abc' to the letters class attribute. Letters should be printed."
   ]
  },
  {
   "cell_type": "code",
   "execution_count": 2,
   "id": "d43321f3",
   "metadata": {},
   "outputs": [
    {
     "name": "stdout",
     "output_type": "stream",
     "text": [
      "abc\n"
     ]
    }
   ],
   "source": [
    "class Thing2:\n",
    "    letters = 'abc'\n",
    "    \n",
    "print(Thing2.letters)"
   ]
  },
  {
   "cell_type": "markdown",
   "id": "61cfcd17",
   "metadata": {},
   "source": [
    "### 3. Make yet another class called, of course, Thing3. This time, assign the value 'xyz' to an instance (object) attribute called letters. Print letters. Do you need to make an object from the class to do this?"
   ]
  },
  {
   "cell_type": "code",
   "execution_count": 3,
   "id": "ea7dbcfa",
   "metadata": {},
   "outputs": [],
   "source": [
    "class Thing3:    \n",
    "    def __init__(self):\n",
    "        self.letters = 'xyz'"
   ]
  },
  {
   "cell_type": "code",
   "execution_count": 5,
   "id": "5b3147ca",
   "metadata": {},
   "outputs": [],
   "source": [
    "a = Thing3()"
   ]
  },
  {
   "cell_type": "code",
   "execution_count": 6,
   "id": "a39e1159",
   "metadata": {},
   "outputs": [
    {
     "data": {
      "text/plain": [
       "'xyz'"
      ]
     },
     "execution_count": 6,
     "metadata": {},
     "output_type": "execute_result"
    }
   ],
   "source": [
    "a.letters"
   ]
  },
  {
   "cell_type": "markdown",
   "id": "412d300f",
   "metadata": {},
   "source": [
    " yes we need to make an object from the class to do this"
   ]
  },
  {
   "cell_type": "markdown",
   "id": "147c50d7",
   "metadata": {},
   "source": [
    "### 4. Create an Element class with the instance attributes name, symbol, and number. Create a class object with the values 'Hydrogen,' 'H,' and 1."
   ]
  },
  {
   "cell_type": "code",
   "execution_count": 14,
   "id": "18e28651",
   "metadata": {},
   "outputs": [
    {
     "name": "stdout",
     "output_type": "stream",
     "text": [
      "\n",
      " name: Hydrogen \n",
      " symbol: H \n",
      " number: 1\n"
     ]
    }
   ],
   "source": [
    "class Element:   \n",
    "    def __init__(self, name, symbol, number):\n",
    "        self.name = name\n",
    "        self.symbol = symbol\n",
    "        self.number = number\n",
    "        print(\"\\n name: {} \\n symbol: {} \\n number: {}\".format(self.name,self.symbol,self.number))\n",
    "\n",
    "my_elements = Element('Hydrogen','H',1)"
   ]
  },
  {
   "cell_type": "markdown",
   "id": "41ffaa3d",
   "metadata": {},
   "source": [
    "### 5. Make a dictionary with these keys and values: 'name': 'Hydrogen', 'symbol': 'H', 'number': 1. Then, create an object called hydrogen from class Element using this dictionary."
   ]
  },
  {
   "cell_type": "code",
   "execution_count": 15,
   "id": "be859e97",
   "metadata": {},
   "outputs": [
    {
     "name": "stdout",
     "output_type": "stream",
     "text": [
      "\n",
      " name: Hydrogen \n",
      " symbol: H \n",
      " number: 1\n",
      "<__main__.Element object at 0x0000029607DEC7C0>\n"
     ]
    }
   ],
   "source": [
    "ele_dict = {'name': 'Hydrogen', 'symbol': 'H', 'number': 1}\n",
    "\n",
    "hydrogen = Element(**ele_dict) #single * gives key, ** gives values\n",
    "print(hydrogen)"
   ]
  },
  {
   "cell_type": "markdown",
   "id": "56850e25",
   "metadata": {},
   "source": [
    "### 6. For the Element class, define a method called dump() that prints the values of the object’s attributes (name, symbol, and number). Create the hydrogen object from this new definition and use dump() to print its attributes."
   ]
  },
  {
   "cell_type": "code",
   "execution_count": 16,
   "id": "bdea22a3",
   "metadata": {},
   "outputs": [],
   "source": [
    "class element:\n",
    "    def __init__(self,name,symbol,number):\n",
    "        self.name = name\n",
    "        self.symbol = symbol\n",
    "        self.number = number\n",
    "    \n",
    "    def dump(self):\n",
    "        print(self.name,self.symbol,self.number)"
   ]
  },
  {
   "cell_type": "code",
   "execution_count": 17,
   "id": "5c645c4a",
   "metadata": {},
   "outputs": [
    {
     "name": "stdout",
     "output_type": "stream",
     "text": [
      "hydrogen H 1\n"
     ]
    }
   ],
   "source": [
    "hydrogen = element('hydrogen', 'H', 1)\n",
    "hydrogen.dump()"
   ]
  },
  {
   "cell_type": "code",
   "execution_count": 27,
   "id": "1509e0f8",
   "metadata": {},
   "outputs": [
    {
     "name": "stdout",
     "output_type": "stream",
     "text": [
      "\n",
      " name: hydrogen \n",
      " symbol: H \n",
      " number: 1\n"
     ]
    }
   ],
   "source": [
    "print(hydrogen)"
   ]
  },
  {
   "cell_type": "markdown",
   "id": "783e8575",
   "metadata": {},
   "source": [
    "### 7. Call print(hydrogen). In the definition of Element, change the name of method dump to __str__, create a new hydrogen object, and call print(hydrogen) again."
   ]
  },
  {
   "cell_type": "code",
   "execution_count": 26,
   "id": "3e1214cb",
   "metadata": {},
   "outputs": [
    {
     "name": "stdout",
     "output_type": "stream",
     "text": [
      "\n",
      " name: hydrogen \n",
      " symbol: H \n",
      " number: 1\n"
     ]
    }
   ],
   "source": [
    "\n",
    "class element:\n",
    "    def __init__(self,name,symbol,number):\n",
    "        self.name = name\n",
    "        self.symbol = symbol\n",
    "        self.number = number\n",
    "        \n",
    "    \n",
    "    def __str__(self):\n",
    "        return \"\\n name: {} \\n symbol: {} \\n number: {}\".format(self.name,self.symbol,self.number)\n",
    "\n",
    "        \n",
    "\n",
    "hydrogen = element('hydrogen', 'H', 1)\n",
    "print(hydrogen)"
   ]
  },
  {
   "cell_type": "markdown",
   "id": "4baa90b4",
   "metadata": {},
   "source": [
    "### 8. Modify Element to make the attributes name, symbol, and number private. Define a getter property for each to return its value."
   ]
  },
  {
   "cell_type": "code",
   "execution_count": 30,
   "id": "00ea6cdb",
   "metadata": {},
   "outputs": [
    {
     "name": "stdout",
     "output_type": "stream",
     "text": [
      "Hydrogen\n",
      "H\n",
      "1\n"
     ]
    }
   ],
   "source": [
    "class Element:\n",
    "    def __init__(self,name,symbol,number):\n",
    "        self.__name = name\n",
    "        self.__symbol = symbol\n",
    "        self.__number = number\n",
    "    \n",
    "    @property\n",
    "    def get_name(self):\n",
    "        return self.__name\n",
    "    \n",
    "    @property\n",
    "    def get_symbol(self):\n",
    "        return self.__symbol\n",
    "    \n",
    "    @property\n",
    "    def get_number(self):\n",
    "        return self.__number\n",
    "    \n",
    "hydrogen = Element('Hydrogen','H',1)\n",
    "print(hydrogen.get_name)\n",
    "print(hydrogen.get_symbol)\n",
    "print(hydrogen.get_number)"
   ]
  },
  {
   "cell_type": "markdown",
   "id": "1404d5b7",
   "metadata": {},
   "source": [
    "### 9. Define three classes: Bear, Rabbit, and Octothorpe. For each, define only one method: eats(). This should return 'berries' (Bear), 'clover' (Rabbit), or 'campers' (Octothorpe). Create one object from each and print what it eats."
   ]
  },
  {
   "cell_type": "code",
   "execution_count": 40,
   "id": "cbcfeeef",
   "metadata": {},
   "outputs": [
    {
     "name": "stdout",
     "output_type": "stream",
     "text": [
      "berries\n",
      "clover\n",
      "campers\n"
     ]
    }
   ],
   "source": [
    "class Bear:\n",
    "    def eats(self):\n",
    "        print('berries')\n",
    "class Rabbit:\n",
    "    def eats(self):\n",
    "        print('clover')\n",
    "class Octothorpe:\n",
    "    def eats(self):\n",
    "        print('campers')\n",
    "        \n",
    "bear = Bear()\n",
    "rabbit = Rabbit()\n",
    "octothrope = Octothorpe()\n",
    "\n",
    "bear.eats()\n",
    "rabbit.eats()\n",
    "octothrope.eats()"
   ]
  },
  {
   "cell_type": "markdown",
   "id": "527c85be",
   "metadata": {},
   "source": [
    "### 10. Define these classes: Laser, Claw, and SmartPhone. Each has only one method: does(). This returns 'disintegrate' (Laser), 'crush' (Claw), or 'ring' (SmartPhone). Then, define the class Robot that has one instance (object) of each of these. Define a does() method for the Robot that prints what its component objects do."
   ]
  },
  {
   "cell_type": "code",
   "execution_count": 41,
   "id": "0f2415cb",
   "metadata": {},
   "outputs": [
    {
     "name": "stdout",
     "output_type": "stream",
     "text": [
      "disintegrate crush ring\n"
     ]
    }
   ],
   "source": [
    "class laser:\n",
    "    def does(self):\n",
    "        return \"disintegrate\"\n",
    "    \n",
    "class claw:\n",
    "    def does(self):\n",
    "        return \"crush\"\n",
    "    \n",
    "class smartphone:\n",
    "    def does(self):\n",
    "        return \"ring\"\n",
    "    \n",
    "class robot:\n",
    "    def __init__(self, laser, claw, smartphone):\n",
    "        self.laser = laser\n",
    "        self.claw = claw\n",
    "        self.smartphone = smartphone\n",
    "    \n",
    "    def does(self):\n",
    "        print(self.laser.does(),self.claw.does(), self.smartphone.does())\n",
    "        \n",
    "l = laser()\n",
    "c = claw()\n",
    "s = smartphone()\n",
    "robot = robot(l,c,s)\n",
    "robot.does()"
   ]
  },
  {
   "cell_type": "code",
   "execution_count": null,
   "id": "fcd7e950",
   "metadata": {},
   "outputs": [],
   "source": []
  }
 ],
 "metadata": {
  "kernelspec": {
   "display_name": "Python 3 (ipykernel)",
   "language": "python",
   "name": "python3"
  },
  "language_info": {
   "codemirror_mode": {
    "name": "ipython",
    "version": 3
   },
   "file_extension": ".py",
   "mimetype": "text/x-python",
   "name": "python",
   "nbconvert_exporter": "python",
   "pygments_lexer": "ipython3",
   "version": "3.9.7"
  }
 },
 "nbformat": 4,
 "nbformat_minor": 5
}
